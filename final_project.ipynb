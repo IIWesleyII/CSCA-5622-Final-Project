{
 "cells": [
  {
   "cell_type": "markdown",
   "id": "0055fae0",
   "metadata": {},
   "source": [
    "# FINAL PROJECT\n",
    "### Customer Churn Analysis"
   ]
  },
  {
   "cell_type": "code",
   "execution_count": null,
   "id": "bd381068",
   "metadata": {},
   "outputs": [
    {
     "name": "stdout",
     "output_type": "stream",
     "text": [
      "Collecting pandas==2.2.3 (from -r requirements.txt (line 1))\n",
      "  Downloading pandas-2.2.3-cp311-cp311-win_amd64.whl.metadata (19 kB)\n",
      "Collecting numpy>=1.23.2 (from pandas==2.2.3->-r requirements.txt (line 1))\n",
      "  Downloading numpy-2.2.5-cp311-cp311-win_amd64.whl.metadata (60 kB)\n",
      "Requirement already satisfied: python-dateutil>=2.8.2 in c:\\users\\wesle\\onedrive\\desktop\\cu_boulder\\csca 5622 introduction to machine learning\\.venv\\lib\\site-packages (from pandas==2.2.3->-r requirements.txt (line 1)) (2.9.0.post0)\n",
      "Collecting pytz>=2020.1 (from pandas==2.2.3->-r requirements.txt (line 1))\n",
      "  Downloading pytz-2025.2-py2.py3-none-any.whl.metadata (22 kB)\n",
      "Collecting tzdata>=2022.7 (from pandas==2.2.3->-r requirements.txt (line 1))\n",
      "  Downloading tzdata-2025.2-py2.py3-none-any.whl.metadata (1.4 kB)\n",
      "Requirement already satisfied: six>=1.5 in c:\\users\\wesle\\onedrive\\desktop\\cu_boulder\\csca 5622 introduction to machine learning\\.venv\\lib\\site-packages (from python-dateutil>=2.8.2->pandas==2.2.3->-r requirements.txt (line 1)) (1.17.0)\n",
      "Downloading pandas-2.2.3-cp311-cp311-win_amd64.whl (11.6 MB)\n",
      "   ---------------------------------------- 0.0/11.6 MB ? eta -:--:--\n",
      "   ------- -------------------------------- 2.1/11.6 MB 10.7 MB/s eta 0:00:01\n",
      "   ------------------ --------------------- 5.2/11.6 MB 13.3 MB/s eta 0:00:01\n",
      "   ------------------------------- -------- 9.2/11.6 MB 15.4 MB/s eta 0:00:01\n",
      "   -------------------------------------- - 11.3/11.6 MB 14.4 MB/s eta 0:00:01\n",
      "   ---------------------------------------- 11.6/11.6 MB 12.1 MB/s eta 0:00:00\n",
      "Downloading numpy-2.2.5-cp311-cp311-win_amd64.whl (12.9 MB)\n",
      "   ---------------------------------------- 0.0/12.9 MB ? eta -:--:--\n",
      "   ------ --------------------------------- 2.1/12.9 MB 10.7 MB/s eta 0:00:02\n",
      "   ------------- -------------------------- 4.5/12.9 MB 11.7 MB/s eta 0:00:01\n",
      "   -------------------- ------------------- 6.6/12.9 MB 11.2 MB/s eta 0:00:01\n",
      "   --------------------------------- ------ 10.7/12.9 MB 13.4 MB/s eta 0:00:01\n",
      "   -------------------------------------- - 12.3/12.9 MB 12.4 MB/s eta 0:00:01\n",
      "   ---------------------------------------- 12.9/12.9 MB 11.8 MB/s eta 0:00:00\n",
      "Downloading pytz-2025.2-py2.py3-none-any.whl (509 kB)\n",
      "Downloading tzdata-2025.2-py2.py3-none-any.whl (347 kB)\n",
      "Installing collected packages: pytz, tzdata, numpy, pandas\n",
      "Successfully installed numpy-2.2.5 pandas-2.2.3 pytz-2025.2 tzdata-2025.2\n"
     ]
    }
   ],
   "source": [
    "! pip install -r requirements.txt"
   ]
  },
  {
   "cell_type": "code",
   "execution_count": null,
   "id": "6af46730",
   "metadata": {},
   "outputs": [
    {
     "name": "stdout",
     "output_type": "stream",
     "text": [
      "hlonrk\n"
     ]
    }
   ],
   "source": [
    "import pandas as pd\n",
    "\n",
    "print(\"hlonrk\")"
   ]
  }
 ],
 "metadata": {
  "kernelspec": {
   "display_name": ".venv",
   "language": "python",
   "name": "python3"
  },
  "language_info": {
   "codemirror_mode": {
    "name": "ipython",
    "version": 3
   },
   "file_extension": ".py",
   "mimetype": "text/x-python",
   "name": "python",
   "nbconvert_exporter": "python",
   "pygments_lexer": "ipython3",
   "version": "3.11.3"
  }
 },
 "nbformat": 4,
 "nbformat_minor": 5
}
